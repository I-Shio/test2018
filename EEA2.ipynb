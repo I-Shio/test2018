{
 "cells": [
  {
   "cell_type": "markdown",
   "metadata": {
    "deletable": true,
    "editable": true
   },
   "source": [
    "$r_{n-1} = b_{k}r_{k} + B_{k}R_{k} \\qquad for\\quad all\\quad k$\n",
    "$B$K$D$$$F9M$($k!#(B\n",
    "\n",
    "$B$$$^(B $r_{n-1}$ $B$O:GBg8xLs?t$G$"$C$?!#$3$l$O!"(B\n",
    "\n",
    "$$\n",
    "\\begin{eqnarray}\n",
    "r_{-2} &=& a_{0}r_{-1} + r_{0}\\\\\n",
    "r_{-1} &=& a_{1}r_{0} + r_{1}\\\\\n",
    "r_{0} &=& a_{2}r_{1} + r_{2}\\\\\n",
    "r_{1} &=& a_{3}r_{2} + r_{3}\\\\\n",
    "r_{2} &=& a_{4}r_{3} + r_{4}\\\\\n",
    "r_{3} &=& a_{5}r_{4} + r_{5}\\\\\n",
    "r_{4} &=& a_{6}r_{5} + r_{6}\\\\\n",
    "&:&\\\\\n",
    "&:&\\\\\n",
    "r_{n-5} &=& a_{n-3}r_{n-4} + r_{n-3}\\\\\n",
    "r_{n-4} &=& a_{n-2}r_{n-3} + r_{n-2}\\\\\n",
    "r_{n-3} &=& a_{n-1}r_{n-2} + r_{n-1} \\tag{B}\\\\\n",
    "r_{n-2} &=& a_{n}r_{n-1} + 0 \\tag{A}\n",
    "\\end{eqnarray}\n",
    "$$\n",
    "\n",
    "$B$H$$$&<jB3$-(B ($B1i;;(B) $B$r7P$?7k2L$G$"$k!#(B\n",
    "$A$ $B<0$N(B $r_{n-1}$ ($B$*$o$9$l$J$/(B gcd$B$@$h!*(B)$B$r(B $B$ $B<0$GCV$-49$($k!#(B\n",
    "\n",
    "$$\n",
    "\\begin{eqnarray}\n",
    "gcd(r_{-2}, r_{-1}) &=& r_{n-1} \\\\\n",
    "                    &=& r_{n-3} - r_{n-2}a_{n-1} \\qquad r_{n-1}$B$rCV$-49$($?(B \\\\\n",
    "                    &=& r_{n-3} - (r_{n-4} - a_{n-2}r_{n-3})a_{n-1} \\qquad r_{n-2} $B$rCV$-49$($?(B\\\\\n",
    "                    &=& r_{n-3} - r_{n-4}a_{n-1} - a_{n-1}a_{n-2}r_{n-3} \\\\\n",
    "                    &=& r_{n-3}(1 - a_{n-1}a_{n-2}) - r_{n-4}a_{n-1} \\qquad r_{n-3} $B$H(B r_{n-4} $B$r;H$C$?<0$K$J$C$?(B\n",
    "\\end{eqnarray}\n",
    "$$\n",
    "\n",
    "$B<!$O(B $r_{n-3} = r_{n-5} - a_{n-3}r_{n-4}$(C) $B$rMxMQ$7$FCV$-49$($k!#<!$O(B $r_{n-4}$ $B$rCV$-49$($k!#(B\n",
    "$B!D5U$r$I$s$I$s$?$I$C$F$$$1$k!#(B\n",
    "\n",
    "(C) $B<0$N(B k $B$NBP1~$r$h$/8+$k$H!"652J=q$N(B $r_{k} = r_{k-2} - a_{k}r_{k-1}$ $B"+$?$7$+$K$=$&$@!*(B\n",
    "\n",
    "$B$=$7$F!"(B$r_{k-2}$ $B$r(B $R_{k-1}$ $B$H$9$k(B ($R_{k} = r_{k-1}$ $B$H$7$?$N$G(B)$B!#(B\n",
    "$B$H$$$&$3$H$G!"(B\n",
    "$b_{k}r_{k} + B_{k}R_{k}$ $B$N!"(B$r_{k}$ $B$O(B $R_{k-1} - a_{k}r_{k-1}$ $B$K!"(B$R_{k}$ $B$O(B $r_{k-1}$ $B$KCV$-49$($k!#(B\n",
    "\n",
    "$$\n",
    "\\begin{eqnarray}\n",
    "b_{k}r_{k} + B_{k}R_{k} &=& b_{k}(R_{k-1} - a_{k}r_{k-1}) + B_{k}r_{k-1}\\\\\n",
    "                        &=& (B_{k} - a_{k}b_{k})r_{k-1} + b_{k}R_{k-1} \\tag{D}\\\\\n",
    "\\end{eqnarray}\n",
    "$$\n",
    "\n",
    "$B$J$K$,$&$l$7$$!)(B\n",
    "\n",
    "$r_{k}$ $B$NF~$C$?<0$r(B $r_{k-1}$ $B$H(B $R_{k-1}$ ($B$3$l$O(B $r_{k-2}$ $B$N$3$H$@(B) $B$GI=$;$?$3$H$,$&$l$7$$!#(B\n",
    "$B$D$^$j$O$8$a$K<h$jAH$s$@!"=gHV$K$d$C$F$$$?3d$j;;$r0l$DA0$NCM$G$"$i$o$;$?!#(B\n",
    "\n",
    "$B$=$7$F(B $B_{n-1} = 0, b_{n-1}=1$ $B$H$$$&$N$O!"MW$9$k$K(B gcd $B$,$b$H$^$C$?;~$N:G=*>uBV$N$3$H$r0UL#$7$F$$$k!#(B\n",
    "$B;D$C$?9`$O(B $r_{n-1}$ $B$G$"$j(B gcd $B$@!#(B\n",
    "\n",
    "$B$=$3$+$i!"(B$D$ $B<0$rEv$F$O$a$F$5$+$N$\$C$F$$$/$H!"$O$8$a$N(B $r_{-2}$ $B$H(B $r_{-1}$ $B$^$G9T$-Ce$/!#(B\n",
    "$B:G=*E*$K!"(B$B_{-1}r_{-2} + b_{-1}r_{-1} = r_{n-1} = (r_{-2},r_{-1})$ $B$K$J$k!#(B\n",
    "\n",
    "$B$@$+$i!"$3$NJ}K!$G3HD%%f!<%/%j%C%I$N8_=|K!(B ($m \\cdot r_{-2} + n \\cdot r_{-1} = \\gcd$ $B$H$$$&OB$H@Q$N7A$KI=$9JQ7A(B) $B$r$7$h$&$H$9$k$H!"(B$a_{n}$ $B$H(B $r_{n}$ $B$rA4It3P$($F$*$+$J$$$H$@$a$@$h!"$H$$$&$*OC!#(B"
   ]
  }
 ],
 "metadata": {
  "kernelspec": {
   "display_name": "Python 3",
   "language": "python",
   "name": "python3"
  },
  "language_info": {
   "codemirror_mode": {
    "name": "ipython",
    "version": 3
   },
   "file_extension": ".py",
   "mimetype": "text/x-python",
   "name": "python",
   "nbconvert_exporter": "python",
   "pygments_lexer": "ipython3",
   "version": "3.5.2"
  }
 },
 "nbformat": 4,
 "nbformat_minor": 2
}
