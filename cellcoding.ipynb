{
 "cells": [
  {
   "cell_type": "markdown",
   "metadata": {},
   "source": [
    "・見出し\n",
    "# 大見出し\n",
    "## 中見出し\n",
    "### 小見出し\n",
    "ふつうの字"
   ]
  },
  {
   "cell_type": "markdown",
   "metadata": {},
   "source": [
    "・強調<br>\n",
    "*イタリック体*\n",
    "**太字**\n",
    "~~打ち消し~~\n"
   ]
  },
  {
   "cell_type": "markdown",
   "metadata": {},
   "source": [
    "・たたむ<br>\n",
    "<details><summary>見出しをsummaryではさんで書く</summary>\n",
    "-ここ以下はたたみこまれる部分-<br>\n",
    "・ちなみにbrは改行<br>\n",
    "・適当になんか書いてね<br>\n",
    "・detailsではさまれてる部分をたたみこむよ<br>\n",
    "・つまりここまで<br>\n",
    "</details>"
   ]
  },
  {
   "cell_type": "markdown",
   "metadata": {},
   "source": [
    "・リンク<br>\n",
    "[GitHub](https://github.com)"
   ]
  },
  {
   "cell_type": "markdown",
   "metadata": {},
   "source": [
    "・テーブル<br>\n",
    "\n",
    "| なまえ             | Level    |\n",
    "|:-----------|------------:|\n",
    "| いのうえ         | Lv.23    |\n",
    "| ともひろ         | Lv.26    |\n",
    "| いいだ　         | Lv.99    |\n",
    "| くすのき         | Lv.23    |\n",
    "| はしもと         | Lv.24    |\n",
    "| たにぐち         | Lv.25    |\n"
   ]
  },
  {
   "cell_type": "code",
   "execution_count": 2,
   "metadata": {
    "collapsed": false
   },
   "outputs": [
    {
     "data": {
      "text/plain": [
       "<matplotlib.text.Text at 0x7fa6052db5c0>"
      ]
     },
     "execution_count": 2,
     "metadata": {},
     "output_type": "execute_result"
    },
    {
     "data": {
      "image/png": "[encoded data removed]",
      "text/plain": [
       "<matplotlib.figure.Figure at 0x7fa628afe780>"
      ]
     },
     "metadata": {},
     "output_type": "display_data"
    }
   ],
   "source": [
    "%matplotlib inline\n",
    "import numpy as np\n",
    "import matplotlib.pyplot as plt\n",
    "\n",
    "x = np.random.rand(100)\n",
    "y = np.random.rand(100)\n",
    "\n",
    "plt.scatter(x,y)\n",
    "\n",
    "plt.title(\"scatterplot\")\n",
    "plt.xlabel(\"x\")\n",
    "plt.ylabel(\"y\")"
   ]
  },
  {
   "cell_type": "code",
   "execution_count": null,
   "metadata": {
    "collapsed": true
   },
   "outputs": [],
   "source": []
  }
 ],
 "metadata": {
  "kernelspec": {
   "display_name": "Python 3",
   "language": "python",
   "name": "python3"
  },
  "language_info": {
   "codemirror_mode": {
    "name": "ipython",
    "version": 3
   },
   "file_extension": ".py",
   "mimetype": "text/x-python",
   "name": "python",
   "nbconvert_exporter": "python",
   "pygments_lexer": "ipython3",
   "version": "3.5.2"
  }
 },
 "nbformat": 4,
 "nbformat_minor": 2
}
